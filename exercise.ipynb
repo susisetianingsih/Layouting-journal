{
 "cells": [
  {
   "cell_type": "code",
   "execution_count": 1,
   "metadata": {},
   "outputs": [
    {
     "name": "stdout",
     "output_type": "stream",
     "text": [
      "Not team\n",
      "Not team\n",
      "Fizz\n",
      "Not team\n",
      "Buzz\n",
      "Fizz\n",
      "Not team\n",
      "Not team\n",
      "Fizz\n",
      "Buzz\n",
      "Not team\n",
      "Fizz\n",
      "Not team\n",
      "Not team\n",
      "Fizz Buzz\n",
      "Not team\n",
      "Not team\n",
      "Fizz\n",
      "Not team\n",
      "Buzz\n",
      "Fizz\n",
      "Not team\n",
      "Not team\n",
      "Fizz\n",
      "Buzz\n",
      "Not team\n",
      "Fizz\n",
      "Not team\n",
      "Not team\n",
      "Fizz Buzz\n",
      "Not team\n",
      "Not team\n",
      "Fizz\n",
      "Not team\n",
      "Buzz\n",
      "Fizz\n",
      "Not team\n",
      "Not team\n",
      "Fizz\n",
      "Buzz\n",
      "Not team\n",
      "Fizz\n",
      "Not team\n",
      "Not team\n",
      "Fizz Buzz\n",
      "Not team\n",
      "Not team\n",
      "Fizz\n",
      "Not team\n",
      "Buzz\n",
      "Fizz\n",
      "Not team\n",
      "Not team\n",
      "Fizz\n",
      "Buzz\n",
      "Not team\n",
      "Fizz\n",
      "Not team\n",
      "Not team\n",
      "Fizz Buzz\n",
      "Not team\n",
      "Not team\n",
      "Fizz\n",
      "Not team\n",
      "Buzz\n",
      "Fizz\n",
      "Not team\n",
      "Not team\n",
      "Fizz\n",
      "Buzz\n",
      "Not team\n",
      "Fizz\n",
      "Not team\n",
      "Not team\n",
      "Fizz Buzz\n",
      "Not team\n",
      "Not team\n",
      "Fizz\n",
      "Not team\n",
      "Buzz\n",
      "Fizz\n",
      "Not team\n",
      "Not team\n",
      "Fizz\n",
      "Buzz\n",
      "Not team\n",
      "Fizz\n",
      "Not team\n",
      "Not team\n",
      "Fizz Buzz\n",
      "Not team\n",
      "Not team\n",
      "Fizz\n",
      "Not team\n",
      "Buzz\n",
      "Fizz\n",
      "Not team\n",
      "Not team\n",
      "Fizz\n",
      "Buzz\n"
     ]
    }
   ],
   "source": [
    "def fizz_buzz():\n",
    "    i = 1\n",
    "    while(i<=100):\n",
    "        if i%3 == 0 and i%5 == 0:\n",
    "            print(\"Fizz Buzz\")\n",
    "        elif i%3 == 0:\n",
    "            print(\"Fizz\")\n",
    "        elif i%5 == 0:\n",
    "            print(\"Buzz\")\n",
    "        else:\n",
    "            print(\"Not team\")\n",
    "        \n",
    "        i+=1\n",
    "\n",
    "fizz_buzz()"
   ]
  },
  {
   "cell_type": "code",
   "execution_count": 11,
   "metadata": {},
   "outputs": [
    {
     "name": "stdout",
     "output_type": "stream",
     "text": [
      "False\n"
     ]
    }
   ],
   "source": [
    "def is_palindrome(s):\n",
    "    a = round(len(s)/2)\n",
    "    b = len(s)\n",
    "    c = 0\n",
    "    for i in range(a):\n",
    "        if s[i] == s[-i-1]:\n",
    "            c+=1\n",
    "    \n",
    "    if c==a:\n",
    "        print(True)\n",
    "    else:\n",
    "        print(False)\n",
    "\n",
    "is_palindrome(\"mata\")"
   ]
  },
  {
   "cell_type": "code",
   "execution_count": 4,
   "metadata": {},
   "outputs": [
    {
     "name": "stdout",
     "output_type": "stream",
     "text": [
      "55\n"
     ]
    },
    {
     "data": {
      "text/plain": [
       "55"
      ]
     },
     "execution_count": 4,
     "metadata": {},
     "output_type": "execute_result"
    }
   ],
   "source": [
    "def fibonacci(n):\n",
    "    a, b = 0, 1\n",
    "    c = 0\n",
    "    while(c < n):\n",
    "        c+=1\n",
    "        a, b = b, a+b\n",
    "        \n",
    "    print(a)\n",
    "\n",
    "fibonacci(10)\n",
    "            \n",
    "            \n",
    "\n",
    "def fibonacci_recursive(n):\n",
    "    if n == 0:\n",
    "        return 0\n",
    "    elif n == 1:\n",
    "        return 1\n",
    "    else:\n",
    "        return fibonacci_recursive(n-2) + fibonacci_recursive(n-1)\n",
    "\n",
    "fibonacci_recursive(10)"
   ]
  },
  {
   "cell_type": "code",
   "execution_count": null,
   "metadata": {},
   "outputs": [
    {
     "name": "stdout",
     "output_type": "stream",
     "text": [
      "[2, 3, 5, 7, 11, 13, 17]\n"
     ]
    }
   ],
   "source": [
    "def primes_up_to(n):\n",
    "    a = []\n",
    "    for i in range(2,n+1):\n",
    "        prime = True\n",
    "        for j in range(2,i):\n",
    "            if i % j == 0:\n",
    "                prime = False\n",
    "                break\n",
    "        if prime:\n",
    "            a.append(i)\n",
    "    return a\n",
    "                \n",
    "print(primes_up_to(18))      "
   ]
  },
  {
   "cell_type": "code",
   "execution_count": 8,
   "metadata": {},
   "outputs": [
    {
     "name": "stdout",
     "output_type": "stream",
     "text": [
      "[1, 3, 5, 6, 9]\n"
     ]
    }
   ],
   "source": [
    "def custom_sort(arr):\n",
    "    for i in range(len(arr)):\n",
    "        for j in range(i+1, len(arr)):\n",
    "            if arr[i] > arr[j]:\n",
    "                arr[i], arr[j] = arr[j], arr[i]\n",
    "    print(arr)        \n",
    "\n",
    "custom_sort([5, 1, 3, 9, 6])"
   ]
  },
  {
   "cell_type": "code",
   "execution_count": null,
   "metadata": {},
   "outputs": [
    {
     "name": "stdout",
     "output_type": "stream",
     "text": [
      "{'s': 2, 'u': 1, 'i': 1}\n"
     ]
    }
   ],
   "source": [
    "def char_count(s):\n",
    "    char_dict = {}\n",
    "    for char in s:\n",
    "        if char in char_dict:\n",
    "            char_dict[char] += 1\n",
    "        else:\n",
    "            char_dict[char] = 1\n",
    "    return char_dict\n",
    "\n",
    "print(char_count(\"susi\"))\n"
   ]
  },
  {
   "cell_type": "code",
   "execution_count": 53,
   "metadata": {},
   "outputs": [
    {
     "name": "stdout",
     "output_type": "stream",
     "text": [
      "[(3, 5), (2, 6)]\n"
     ]
    }
   ],
   "source": [
    "def find_pairs(nums, target):\n",
    "    pair = []\n",
    "    for i in range(len(nums)-1):\n",
    "        for j in range(i+1, len(nums)):\n",
    "            if nums[i]+nums[j] == target:\n",
    "                pair.append((nums[i], nums[j]))\n",
    "    return pair\n",
    "\n",
    "print(find_pairs([1, 3, 5, 2, 4, 6], 8))\n",
    "\n",
    "# def find_pairs(nums, target):\n",
    "#     pairs = []\n",
    "#     seen = set()  # To keep track of numbers we've already processed\n",
    "\n",
    "#     for num in nums:\n",
    "#         complement = target - num  # Find the number that would sum with `num` to reach `target`\n",
    "#         if complement in seen:\n",
    "#             pairs.append((complement, num))  # Add the pair\n",
    "#         seen.add(num)  # Mark `num` as processed\n",
    "\n",
    "#     return pairs\n",
    "\n",
    "# print(find_pairs([1, 3, 5, 2, 4, 6], 8))\n"
   ]
  },
  {
   "cell_type": "code",
   "execution_count": 20,
   "metadata": {},
   "outputs": [
    {
     "name": "stdout",
     "output_type": "stream",
     "text": [
      "False\n"
     ]
    }
   ],
   "source": [
    "def are_anagrams(s1, s2):\n",
    "    num = 0\n",
    "    ls_s1 = list(s1)\n",
    "    ls_s2 = list(s2)\n",
    "    for i in ls_s1:\n",
    "        for j in ls_s2:\n",
    "            if i == j:\n",
    "                num+=1\n",
    "                ls_s2.remove(j)\n",
    "    if num == len(s1):\n",
    "        return True\n",
    "    return False\n",
    "\n",
    "print(are_anagrams(\"mata\", \"mita\"))"
   ]
  },
  {
   "cell_type": "code",
   "execution_count": 27,
   "metadata": {},
   "outputs": [
    {
     "name": "stdout",
     "output_type": "stream",
     "text": [
      "-1\n"
     ]
    }
   ],
   "source": [
    "def binary_search(arr, target):\n",
    "    isFound = False\n",
    "    for i in arr:\n",
    "        if i == target:\n",
    "            isFound = True\n",
    "            print(arr.index(i))\n",
    "            break\n",
    "    \n",
    "    if isFound == False:\n",
    "        print(-1)\n",
    "          \n",
    "binary_search((5,2,7,9,4,3,1,8), 0)        "
   ]
  },
  {
   "cell_type": "code",
   "execution_count": 52,
   "metadata": {},
   "outputs": [
    {
     "name": "stdout",
     "output_type": "stream",
     "text": [
      "1\n",
      "1\n",
      "1\n",
      "4\n",
      "5\n",
      "5\n",
      "7\n",
      "5\n",
      "[1, 4, 5, 7]\n"
     ]
    }
   ],
   "source": [
    "def find_duplicates(nums):\n",
    "    dup = []\n",
    "    for i in range(len(nums)-1):\n",
    "        for j in range(i+1, len(nums)):\n",
    "            if nums[i] == nums[j]:\n",
    "                print(nums[i])\n",
    "                if nums[i] not in dup:\n",
    "                    dup.append(nums[i])\n",
    "    return dup\n",
    "\n",
    "print(find_duplicates([1,1,4,3,5,7,0,2,4,5,1,7,5]))\n",
    "            \n",
    "               "
   ]
  }
 ],
 "metadata": {
  "kernelspec": {
   "display_name": "myenv",
   "language": "python",
   "name": "python3"
  },
  "language_info": {
   "codemirror_mode": {
    "name": "ipython",
    "version": 3
   },
   "file_extension": ".py",
   "mimetype": "text/x-python",
   "name": "python",
   "nbconvert_exporter": "python",
   "pygments_lexer": "ipython3",
   "version": "3.11.0"
  }
 },
 "nbformat": 4,
 "nbformat_minor": 2
}
